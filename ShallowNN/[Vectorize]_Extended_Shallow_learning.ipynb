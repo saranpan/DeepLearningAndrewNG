{
  "cells": [
    {
      "cell_type": "markdown",
      "metadata": {
        "id": "view-in-github",
        "colab_type": "text"
      },
      "source": [
        "<a href=\"https://colab.research.google.com/github/wallik2/DeepLearningAndrewNG/blob/ch1_NN/ShallowNN/%5BVectorize%5D_Extended_Shallow_learning.ipynb\" target=\"_parent\"><img src=\"https://colab.research.google.com/assets/colab-badge.svg\" alt=\"Open In Colab\"/></a>"
      ]
    },
    {
      "cell_type": "markdown",
      "metadata": {
        "id": "zJeZbZy4MMOJ"
      },
      "source": [
        "Extended Shallow learning\n",
        "\n",
        "- Show the updated parameter for every epoch\n",
        "- Time catch"
      ]
    },
    {
      "cell_type": "code",
      "execution_count": 34,
      "metadata": {
        "colab": {
          "base_uri": "https://localhost:8080/"
        },
        "id": "CmVfnRgtqnxz",
        "outputId": "d6a71260-968b-4a18-db38-f191e1e78c50"
      },
      "outputs": [
        {
          "output_type": "stream",
          "name": "stdout",
          "text": [
            "Drive already mounted at /content/drive; to attempt to forcibly remount, call drive.mount(\"/content/drive\", force_remount=True).\n"
          ]
        }
      ],
      "source": [
        "from google.colab import drive\n",
        "drive.mount('/content/drive')"
      ]
    },
    {
      "cell_type": "code",
      "execution_count": 35,
      "metadata": {
        "id": "4I5_pH_JdU7N"
      },
      "outputs": [],
      "source": [
        "import pandas as pd, numpy as np,matplotlib.pyplot as plt\n",
        "from time import time\n",
        "import csv"
      ]
    },
    {
      "cell_type": "code",
      "execution_count": 36,
      "metadata": {
        "id": "yywpwvD_X_R1"
      },
      "outputs": [],
      "source": [
        "df = pd.read_csv('/content/drive/MyDrive/dataset/Andrew NG/churn_small3.csv')"
      ]
    },
    {
      "cell_type": "code",
      "execution_count": 37,
      "metadata": {
        "id": "4_A6AJDEZQVk"
      },
      "outputs": [],
      "source": [
        "X = df[['tenure'\t,'TotalCharges'\t,'PaperlessBilling']]\n",
        "y = df[['Churn']]"
      ]
    },
    {
      "cell_type": "markdown",
      "metadata": {
        "id": "QhEWfVkG-zQB"
      },
      "source": [
        "<details>\n",
        "<summary>Shallow Neural Network</summary>\n",
        "\n",
        "<img src = 'https://i.ibb.co/cr1sQJ8/IMG-8053.jpg'>\n",
        "\n",
        "\n",
        "\n",
        "</details>"
      ]
    },
    {
      "cell_type": "markdown",
      "metadata": {
        "id": "qSXg4i8xSZfT"
      },
      "source": [
        "\n",
        "\n",
        "---\n",
        "\n"
      ]
    },
    {
      "cell_type": "code",
      "execution_count": 38,
      "metadata": {
        "id": "RTHeiDnSFSNq"
      },
      "outputs": [],
      "source": [
        "\"\"\"\n",
        "Utility Functions\n",
        "\"\"\"\n",
        "\n",
        "def tanh(z):\n",
        "  return ( np.exp(z) - np.exp(-z) ) / ( np.exp(z) + np.exp(-z) )\n",
        "\n",
        "def sigmoid(z):\n",
        "  return 1/(1+np.exp(-z))\n",
        "\n",
        "def ReLU(z):\n",
        "  return np.where(z>=0,z,0)\n",
        "\n",
        "def LeakyReLU(z:float):\n",
        "  return np.where(z>=0,z,0.01*z)\n",
        "\n",
        "def update_param(var,dvar,lr=0.005):\n",
        "  return var - lr * dvar\n",
        "\n",
        "def binary_cross_entropy(a,y):\n",
        "  return -((y * np.log(a)) + ((1-y) * np.log(1-a)))"
      ]
    },
    {
      "cell_type": "code",
      "execution_count": 39,
      "metadata": {
        "id": "rvKFRFqOiF7M"
      },
      "outputs": [],
      "source": [
        "\"\"\"\n",
        "Derivative of Activation Functions\n",
        "\"\"\"\n",
        "\n",
        "def dReLU(z:float):\n",
        "  return np.where(z>=0,1,0)\n",
        "\n",
        "def dLeakyReLU(z:float):\n",
        "  return np.where(z>=0,1,0.01)\n",
        "\n",
        "def dTanh(z:float):\n",
        "  a = tanh(z)  \n",
        "  return 1-a**2\n",
        "\n"
      ]
    },
    {
      "cell_type": "markdown",
      "metadata": {
        "id": "pUv2QLb9nlaK"
      },
      "source": [
        "<details>\n",
        "<summary> <h2>Setup Explanation</h2> </summary>\n",
        "\n",
        "#### Set up Parameter\n",
        "\n",
        "```\n",
        "setting = {'n1':len(X.columns), # Represent number of unit in input layer\n",
        "           'm' : len(X), \n",
        "           'n2' : 4, # number of unit but hidden layer\n",
        "            'n3' : 1} # ,, Output layer\n",
        "           # We replace n1 = n_x\n",
        "```\n",
        "\n",
        "\n",
        "\n",
        "\n",
        "\n",
        "\n",
        "- X shape : n1 * m \n",
        "- W : n1 * n2\n",
        "\n",
        "```\n",
        "np.random.random(size = (3,4))\n",
        "```\n",
        "\n",
        "> return uniformly distributed from [0,1]\n",
        "> We multiply by 0.01 to make the Z not too extreme, so all does not close to -1 nor 1 \n",
        "\n",
        "#### Propogation\n",
        "\n",
        "Derivative cheat sheet:\n",
        "<img src = 'https://i.ibb.co/rdrPKDQ/ss.jpg'>\n",
        "\n",
        "- If we change the activation function for hidden layer: then the formula to obtain dz1 is slightly changed \n",
        "\n",
        "<img src = 'https://i.imgur.com/IMJjWUd.png'>\n",
        "- Cr. Andrew\n",
        "\n",
        "</details>"
      ]
    },
    {
      "cell_type": "code",
      "execution_count": 40,
      "metadata": {
        "id": "a3FzNUsc_6oQ"
      },
      "outputs": [],
      "source": [
        "\n",
        "def shallow_NN(X,y,hidden_unit = 4, epochs=10000, lr = 1e-6, activation_function='tanh'):\n",
        "  \"\"\"\n",
        "\n",
        "  @X\n",
        "  : X: predictor (Must be Pandas dataframe or Series)\n",
        "\n",
        "  @y\n",
        "  : y : class (Must be Pandas Series) \n",
        "\n",
        "  @hidden_unit\n",
        "  : Number of hidden unit (default=4)\n",
        "\n",
        "  @epochs\n",
        "  : Number of epoch (default=10000)\n",
        "\n",
        "  @lr\n",
        "  : learning rate (default=10^-6)\n",
        "\n",
        "  @activation function : \n",
        "  Description: activation function for the hidden layer\n",
        "  Must be one of ['tanh','ReLU','LeakyReLU']\n",
        "\n",
        "  \"\"\"\n",
        "\n",
        "  # Select the activation function\n",
        "  if activation_function == 'tanh':\n",
        "    g = tanh\n",
        "    g_ = dTanh\n",
        "  elif activation_function == 'ReLU':\n",
        "    g = ReLU\n",
        "    g_ = dReLU\n",
        "  elif activation_function == 'LeakyReLU':\n",
        "    g = LeakyReLU\n",
        "    g_ = dLeakyReLU\n",
        "  else :\n",
        "    print(f\"Activation function {activation_function } is not available\")\n",
        "    print(\"Pick tanh (default) instead\")\n",
        "    g = tanh\n",
        "    g_ = dTanh\n",
        "  \n",
        "\n",
        "  # For generate Report\n",
        "  csv_file = open('report.csv','w')\n",
        "  csv_writer = csv.writer(csv_file)\n",
        "\n",
        "  csv_writer.writerow(['epoch','W1','W2','b1','b2','dw1','dw2','db1','db2','cost'])\n",
        "  tic = time()\n",
        "\n",
        "  # Main \n",
        "\n",
        "  #Setup\n",
        "  np.random.seed(42)\n",
        "\n",
        "  n0 = len(X.columns)\n",
        "  n1 = hidden_unit\n",
        "  n2 = 1\n",
        "\n",
        "  m = len(X) \n",
        "\n",
        "  # Initiate param\n",
        "  X = X.to_numpy().T   # shape : n0*m\n",
        "  y = y.to_numpy().T   # shape : 1*m\n",
        "\n",
        "  \"\"\" For Layer one \"\"\"\n",
        "  W1 = np.random.random(size = (n1,n0)) * 0.01\n",
        "  b1 = np.zeros(shape=(n1,1))\n",
        "\n",
        "  \"\"\" FOr Layer Two \"\"\"\n",
        "  W2 = np.random.random(size = (1,n1)) * 0.01\n",
        "  b2 = np.zeros(shape=(1,n2))\n",
        "\n",
        "\n",
        "\n",
        "  # Training\n",
        "  for epoch in range(1,epochs+1):\n",
        "\n",
        "    # Forward Propagation\n",
        "    \"\"\" Layer one \"\"\"\n",
        "    Z1 = np.dot(W1,X) + b1  # shape : 4*7032\n",
        "    a1 = g(Z1)         # shape : 4*7032\n",
        "\n",
        "    \"\"\" Layer Two \"\"\"\n",
        "    Z2 = np.dot(W2,a1) + b2 #shape : 1*7032\n",
        "    a2 = sigmoid(Z2)        #shape : 1*7032\n",
        "\n",
        "    \"\"\" Loss/Cost Function \"\"\"\n",
        "    loss = binary_cross_entropy(a2,y) #simply loss function for derivative\n",
        "    loss = np.sum(loss, axis = 1) \n",
        "    cost = loss/m \n",
        "\n",
        "\n",
        "    # Backward Propagation (To return error)\n",
        "    \"\"\"Layer Two\"\"\"\n",
        "    dz2 = a2-y\n",
        "    dw2 = (1/m) * np.dot(dz2,a1.T)   \n",
        "    db2 = (1/m) * np.sum(dz2,axis=1,keepdims = True) \n",
        "\n",
        "    assert db2.shape == b2.shape\n",
        "    assert dw2.shape == W2.shape\n",
        "    assert dz2.shape == Z2.shape\n",
        "\n",
        "    \"\"\"Layer One\"\"\"\n",
        "    da1 = np.dot(W2.T,dz2)\n",
        "    dz1 = da1 * g_(Z1)   \n",
        "    dw1 = (1/m) * np.dot(dz1,X.T)   #\n",
        "    db1 = (1/m) * np.sum(dz1,axis=1,keepdims = True) \n",
        "\n",
        "    assert db1.shape == b1.shape\n",
        "    assert dw1.shape == W1.shape\n",
        "    assert dz1.shape == Z1.shape\n",
        "\n",
        "    # Update param (To update param)\n",
        "    W2 -= lr*dw2\n",
        "    b2 -= lr*db2\n",
        "    W1 -= lr*dw1\n",
        "    b1 -= lr*db1\n",
        "\n",
        "    # Generate Report\n",
        "    csv_writer.writerow([epoch,W1,W2,b1,b2,dw1,dw2,db1,db2,cost[0]])\n",
        "\n",
        "    if epoch % 100 == 0:\n",
        "      print(f'Epoch : {epoch}/{epochs} ====: {cost}')\n",
        "\n",
        "    if np.isnan(cost):\n",
        "      print(\"Overflow....Stop\")\n",
        "      break\n",
        "\n",
        "  toc = time()\n",
        "  print(f\"\\n {epochs} epoch : {(toc-tic)/60} minute\")\n",
        "\n",
        "  csv_file.close()\n",
        "  report = pd.read_csv('/content/report.csv')\n",
        "  description = f'Shallow Neural network with {n1} hidden unit(s) with activation function {activation_function}'\n",
        "  return report,description"
      ]
    },
    {
      "cell_type": "code",
      "execution_count": 41,
      "metadata": {
        "id": "og6STdHhs2gS"
      },
      "outputs": [],
      "source": [
        "def report_plotter(report,description):\n",
        "  \"\"\"\n",
        "  @report:\n",
        "    must be the report from the Shallow_NN function\n",
        "  @description:\n",
        "    for the title of plot\n",
        "    purpose: to compare the performance with each number of unit & activation function\n",
        "  \"\"\"\n",
        "  plt.plot(report['epoch'],report['cost'])\n",
        "  plt.xlabel('epoch')\n",
        "  plt.ylabel('cost')\n",
        "  plt.title(description)\n",
        "  plt.show()"
      ]
    },
    {
      "cell_type": "markdown",
      "metadata": {
        "id": "HbLITQWj5jNZ"
      },
      "source": [
        "# Test & Plot"
      ]
    },
    {
      "cell_type": "markdown",
      "metadata": {
        "id": "4RVDWz_z5wbN"
      },
      "source": [
        "- Let's compare the cost funciton of each type of activation function in the hidden layer. Criteria would be cost & time"
      ]
    },
    {
      "cell_type": "code",
      "execution_count": 43,
      "metadata": {
        "colab": {
          "base_uri": "https://localhost:8080/",
          "height": 514
        },
        "id": "ceuWUAx8OMKO",
        "outputId": "24d653b0-0a2b-42e7-eed2-50cedf48eb91"
      },
      "outputs": [
        {
          "output_type": "stream",
          "name": "stdout",
          "text": [
            "Epoch : 100/1000 ====: [0.69396399]\n",
            "Epoch : 200/1000 ====: [0.69038424]\n",
            "Epoch : 300/1000 ====: [0.68685929]\n",
            "Epoch : 400/1000 ====: [0.68339151]\n",
            "Epoch : 500/1000 ====: [0.6799961]\n",
            "Epoch : 600/1000 ====: [0.67668316]\n",
            "Epoch : 700/1000 ====: [0.67345807]\n",
            "Epoch : 800/1000 ====: [0.67032314]\n",
            "Epoch : 900/1000 ====: [0.66727882]\n",
            "Epoch : 1000/1000 ====: [0.66432434]\n",
            "\n",
            " 1000 epoch : 0.4604544480641683 minute\n"
          ]
        },
        {
          "output_type": "display_data",
          "data": {
            "text/plain": [
              "<Figure size 432x288 with 1 Axes>"
            ],
            "image/png": "[encoded data removed]"
          },
          "metadata": {
            "needs_background": "light"
          }
        }
      ],
      "source": [
        "report , description = shallow_NN(X=X,y=y,hidden_unit=6,epochs=1000,lr = 1e-4,activation_function='tanh')\n",
        "report_plotter(report , description)"
      ]
    },
    {
      "cell_type": "code",
      "execution_count": 44,
      "metadata": {
        "colab": {
          "base_uri": "https://localhost:8080/",
          "height": 408
        },
        "id": "gMybmOyZLtA7",
        "outputId": "b719cd75-3df7-4487-ace1-a2c199477113"
      },
      "outputs": [
        {
          "output_type": "stream",
          "name": "stdout",
          "text": [
            "Epoch : 100/1000 ====: [0.57241545]\n",
            "Epoch : 200/1000 ====: [0.57235835]\n",
            "Epoch : 300/1000 ====: [0.57230132]\n"
          ]
        },
        {
          "output_type": "error",
          "ename": "KeyboardInterrupt",
          "evalue": "ignored",
          "traceback": [
            "\u001b[0;31m---------------------------------------------------------------------------\u001b[0m",
            "\u001b[0;31mKeyboardInterrupt\u001b[0m                         Traceback (most recent call last)",
            "\u001b[0;32m<ipython-input-44-7d1cd5a0e8a9>\u001b[0m in \u001b[0;36m<module>\u001b[0;34m()\u001b[0m\n\u001b[0;32m----> 1\u001b[0;31m \u001b[0mreport\u001b[0m \u001b[0;34m,\u001b[0m \u001b[0mdescription\u001b[0m \u001b[0;34m=\u001b[0m \u001b[0mshallow_NN\u001b[0m\u001b[0;34m(\u001b[0m\u001b[0mX\u001b[0m\u001b[0;34m=\u001b[0m\u001b[0mX\u001b[0m\u001b[0;34m,\u001b[0m\u001b[0my\u001b[0m\u001b[0;34m=\u001b[0m\u001b[0my\u001b[0m\u001b[0;34m,\u001b[0m\u001b[0mhidden_unit\u001b[0m\u001b[0;34m=\u001b[0m\u001b[0;36m6\u001b[0m\u001b[0;34m,\u001b[0m\u001b[0mepochs\u001b[0m\u001b[0;34m=\u001b[0m\u001b[0;36m1000\u001b[0m\u001b[0;34m,\u001b[0m\u001b[0mlr\u001b[0m \u001b[0;34m=\u001b[0m \u001b[0;36m1e-4\u001b[0m\u001b[0;34m,\u001b[0m\u001b[0mactivation_function\u001b[0m\u001b[0;34m=\u001b[0m\u001b[0;34m'ReLU'\u001b[0m\u001b[0;34m)\u001b[0m\u001b[0;34m\u001b[0m\u001b[0;34m\u001b[0m\u001b[0m\n\u001b[0m\u001b[1;32m      2\u001b[0m \u001b[0mreport_plotter\u001b[0m\u001b[0;34m(\u001b[0m\u001b[0mreport\u001b[0m \u001b[0;34m,\u001b[0m \u001b[0mdescription\u001b[0m\u001b[0;34m)\u001b[0m\u001b[0;34m\u001b[0m\u001b[0;34m\u001b[0m\u001b[0m\n",
            "\u001b[0;32m<ipython-input-40-0c40efab5777>\u001b[0m in \u001b[0;36mshallow_NN\u001b[0;34m(X, y, hidden_unit, epochs, lr, activation_function)\u001b[0m\n\u001b[1;32m     78\u001b[0m     \u001b[0;31m# Forward Propagation\u001b[0m\u001b[0;34m\u001b[0m\u001b[0;34m\u001b[0m\u001b[0;34m\u001b[0m\u001b[0m\n\u001b[1;32m     79\u001b[0m     \u001b[0;34m\"\"\" Layer one \"\"\"\u001b[0m\u001b[0;34m\u001b[0m\u001b[0;34m\u001b[0m\u001b[0m\n\u001b[0;32m---> 80\u001b[0;31m     \u001b[0mZ1\u001b[0m \u001b[0;34m=\u001b[0m \u001b[0mnp\u001b[0m\u001b[0;34m.\u001b[0m\u001b[0mdot\u001b[0m\u001b[0;34m(\u001b[0m\u001b[0mW1\u001b[0m\u001b[0;34m,\u001b[0m\u001b[0mX\u001b[0m\u001b[0;34m)\u001b[0m \u001b[0;34m+\u001b[0m \u001b[0mb1\u001b[0m  \u001b[0;31m# shape : 4*7032\u001b[0m\u001b[0;34m\u001b[0m\u001b[0;34m\u001b[0m\u001b[0m\n\u001b[0m\u001b[1;32m     81\u001b[0m     \u001b[0ma1\u001b[0m \u001b[0;34m=\u001b[0m \u001b[0mg\u001b[0m\u001b[0;34m(\u001b[0m\u001b[0mZ1\u001b[0m\u001b[0;34m)\u001b[0m         \u001b[0;31m# shape : 4*7032\u001b[0m\u001b[0;34m\u001b[0m\u001b[0;34m\u001b[0m\u001b[0m\n\u001b[1;32m     82\u001b[0m \u001b[0;34m\u001b[0m\u001b[0m\n",
            "\u001b[0;32m<__array_function__ internals>\u001b[0m in \u001b[0;36mdot\u001b[0;34m(*args, **kwargs)\u001b[0m\n",
            "\u001b[0;31mKeyboardInterrupt\u001b[0m: "
          ]
        }
      ],
      "source": [
        "report , description = shallow_NN(X=X,y=y,hidden_unit=6,epochs=1000,lr = 1e-4,activation_function='ReLU')\n",
        "report_plotter(report , description)"
      ]
    },
    {
      "cell_type": "code",
      "execution_count": null,
      "metadata": {
        "id": "JdiEMd2svTsN"
      },
      "outputs": [],
      "source": [
        "report , description = shallow_NN(X=X,y=y,hidden_unit=6,epochs=1000,lr = 1e-4,activation_function='LeakyReLU')\n",
        "report_plotter(report , description)"
      ]
    },
    {
      "cell_type": "markdown",
      "metadata": {
        "id": "hScbPxNp5mpy"
      },
      "source": [
        " >Seems like ReLU family would be the fastest, also have the best accuracy among other activation functions.\n"
      ]
    },
    {
      "cell_type": "markdown",
      "metadata": {
        "id": "pvOwkEx86BBy"
      },
      "source": [
        "ReLU but 1000000 epochs "
      ]
    },
    {
      "cell_type": "code",
      "execution_count": null,
      "metadata": {
        "id": "x80cHJde5uRC"
      },
      "outputs": [],
      "source": [
        "report , description = shallow_NN(X=X,y=y,hidden_unit=6,epochs=1000000,lr = 1e-4,activation_function='ReLU')\n",
        "report_plotter(report , description)\n",
        "\n",
        "# comment : The loss function is fluctuating, perhap the learning rate need to be adjust from 1e-4 to be lower (Future : Optimizer)"
      ]
    },
    {
      "cell_type": "code",
      "source": [
        "# Best epoch with the minimum cost \n",
        "\n",
        "(report[report.cost == report.cost.min()])"
      ],
      "metadata": {
        "id": "kEmR0qsA82zh"
      },
      "execution_count": null,
      "outputs": []
    },
    {
      "cell_type": "code",
      "source": [
        ""
      ],
      "metadata": {
        "id": "j8YrQpJ19T9t"
      },
      "execution_count": null,
      "outputs": []
    },
    {
      "cell_type": "code",
      "execution_count": null,
      "metadata": {
        "id": "Qr6N3okSvb6F"
      },
      "outputs": [],
      "source": [
        "report , description = shallow_NN(X=X,y=y,hidden_unit=6,epochs=1000000,lr = 1e-4,activation_function='tanh')\n",
        "report_plotter(report , description)"
      ]
    }
  ],
  "metadata": {
    "colab": {
      "name": "[Vectorize] Extended Shallow learning.ipynb",
      "provenance": [],
      "include_colab_link": true
    },
    "kernelspec": {
      "display_name": "Python 3",
      "name": "python3"
    },
    "language_info": {
      "name": "python"
    }
  },
  "nbformat": 4,
  "nbformat_minor": 0
}